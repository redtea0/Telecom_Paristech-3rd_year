{
 "cells": [
  {
   "cell_type": "markdown",
   "metadata": {},
   "source": [
    "#### Please feel free to contact me @: kevin.elgui@gmail.com for remarks or questions."
   ]
  },
  {
   "cell_type": "code",
   "execution_count": 1,
   "metadata": {},
   "outputs": [],
   "source": [
    "import numpy as np\n",
    "import pandas as pd"
   ]
  },
  {
   "cell_type": "markdown",
   "metadata": {},
   "source": [
    "# Les données"
   ]
  },
  {
   "cell_type": "markdown",
   "metadata": {},
   "source": [
    "<font color=\"red\">Charger le fichier csv 'data/titanic_train.csv' sour forme de dataframe.</font>"
   ]
  },
  {
   "cell_type": "code",
   "execution_count": null,
   "metadata": {},
   "outputs": [],
   "source": [
    "df = pd.read_csv('PATH_TO_MY_FILE')"
   ]
  },
  {
   "cell_type": "markdown",
   "metadata": {},
   "source": [
    "<font color='red'>\n",
    "Inspecter les données, et à l'aide de la méthode df.head, afficher les premières lignes.\n",
    "</font>"
   ]
  },
  {
   "cell_type": "code",
   "execution_count": null,
   "metadata": {},
   "outputs": [],
   "source": []
  },
  {
   "cell_type": "markdown",
   "metadata": {},
   "source": [
    "<font color=\"red\">\n",
    "Utiliser la méthode \"describe\" et répondre aux questions suivantes :  \n",
    "- Moyenne d'âge des passagers ?  \n",
    "- Âge du passager le plus âgé ?  \n",
    "- Pourcentage de passagers ayant survécu ?  \n",
    "</font>"
   ]
  },
  {
   "cell_type": "code",
   "execution_count": null,
   "metadata": {},
   "outputs": [],
   "source": []
  },
  {
   "cell_type": "markdown",
   "metadata": {},
   "source": [
    "<font color=\"red\">Calculer le nombre d'hommes et le nombre de survivants chez les hommes à l'aide de la fonction pandas df.sum\n",
    "</font>"
   ]
  },
  {
   "cell_type": "code",
   "execution_count": null,
   "metadata": {},
   "outputs": [],
   "source": []
  },
  {
   "cell_type": "markdown",
   "metadata": {},
   "source": [
    "<font color=\"red\">Tracer l'histogramme des âges et/ou des classes. On pourra s'aider de la méthode df.hist </font>"
   ]
  },
  {
   "cell_type": "code",
   "execution_count": null,
   "metadata": {},
   "outputs": [],
   "source": [
    "import matplotlib.pyplot as plt\n",
    "%matplotlib inline"
   ]
  },
  {
   "cell_type": "code",
   "execution_count": null,
   "metadata": {},
   "outputs": [],
   "source": []
  },
  {
   "cell_type": "markdown",
   "metadata": {},
   "source": [
    "## Traitement des données manquantes"
   ]
  },
  {
   "cell_type": "markdown",
   "metadata": {},
   "source": [
    "<font color=\"red\">Evaluer le nombre de données manquantes par colonne à l'aide de la méthode df.count  </font>"
   ]
  },
  {
   "cell_type": "code",
   "execution_count": null,
   "metadata": {},
   "outputs": [],
   "source": []
  },
  {
   "cell_type": "markdown",
   "metadata": {},
   "source": [
    "<font color=\"red\">\n",
    "Supprimer les colonnes non-informatives ou comportant trop de données manquantes à l'aide de la méthode df.drop. Pensez à bien fixer la valeur du paramètre \"inplace\" à True. \n",
    "</font>"
   ]
  },
  {
   "cell_type": "code",
   "execution_count": null,
   "metadata": {},
   "outputs": [],
   "source": []
  },
  {
   "cell_type": "markdown",
   "metadata": {},
   "source": [
    "<font color=\"red\">\n",
    "Avec la méthode fillna(), créer une nouvelle dataframe où les NaN sont remplacées par la médiane de la colonne.\n",
    "</font>"
   ]
  },
  {
   "cell_type": "code",
   "execution_count": null,
   "metadata": {},
   "outputs": [],
   "source": []
  },
  {
   "cell_type": "markdown",
   "metadata": {},
   "source": [
    "<font color=\"red\">\n",
    "Vérifier qu'il n'y a plus de données manquantes, ou s'il en reste quelques unes, supprimer les lignes correspondantes.</font>"
   ]
  },
  {
   "cell_type": "code",
   "execution_count": null,
   "metadata": {},
   "outputs": [],
   "source": []
  },
  {
   "cell_type": "markdown",
   "metadata": {},
   "source": [
    " "
   ]
  },
  {
   "cell_type": "markdown",
   "metadata": {},
   "source": [
    "## Conversion des variables catégorielles\n"
   ]
  },
  {
   "cell_type": "markdown",
   "metadata": {},
   "source": [
    "<font color=\"red\">\n",
    "Vérifier que 'sex' et 'embark' sont les seules variables catégorielles. On pourra par exemple utiliser la méthode df.dtypes \n",
    "</font>\n"
   ]
  },
  {
   "cell_type": "code",
   "execution_count": null,
   "metadata": {},
   "outputs": [],
   "source": []
  },
  {
   "cell_type": "markdown",
   "metadata": {},
   "source": [
    "<font color=\"red\">\n",
    "    À l'aide de la méthode pandas: df.get_dummies ou (c'est plus difficile) des méthodes scikit learn: LabelEncoder et OneHotEncoder, convertissez ces colonnes en variables \"one-hot\". On renvoie à l'aide de scikit learn: http://scikit-learn.org/stable/modules/generated/sklearn.preprocessing.OneHotEncoder.html#sklearn.preprocessing.OneHotEncoder\n",
    "<font> \n",
    "<font color=\"black\"> Dans une version beta de scikit, on y trouve la classe CategoricalEncoder; pour ceux qui l'ont, vous êtes libres de vous en servir.\n",
    "    <font> "
   ]
  },
  {
   "cell_type": "code",
   "execution_count": null,
   "metadata": {},
   "outputs": [],
   "source": []
  },
  {
   "cell_type": "markdown",
   "metadata": {},
   "source": [
    "<font color=\"black\">\n",
    "   Remarque: Pensez bien à supprimer (si ce n'est pas déjà fait) les colonnes catégorielles \"sex\" et \"embarked\". Le      DataFrame final ne devra plus que comporter les colonnes \"sex\" et \"embarked\" encodées en One-Hot.\n",
    "    <font>"
   ]
  },
  {
   "cell_type": "code",
   "execution_count": null,
   "metadata": {},
   "outputs": [],
   "source": []
  },
  {
   "cell_type": "markdown",
   "metadata": {},
   "source": [
    "# Régression logistique"
   ]
  },
  {
   "cell_type": "code",
   "execution_count": null,
   "metadata": {},
   "outputs": [],
   "source": [
    "# Réponse et matrice de design\n",
    "y = df.Survived.values\n",
    "X = df.drop(columns='Survived').values\n",
    "feature_names = df.drop(columns='Survived').columns\n",
    "print(y[:5])\n",
    "print(X[:4,:])"
   ]
  },
  {
   "cell_type": "markdown",
   "metadata": {},
   "source": [
    "<font color=\"red\">\n",
    "Utilisez scikit-learn et la classe LogisticRegression de sklearn.linear_model pour entraîner un classifieur sur les données d'apprentissage. Essayez de justifier le choix de vos paramètres.\n",
    "</font>"
   ]
  },
  {
   "cell_type": "markdown",
   "metadata": {
    "collapsed": true
   },
   "source": [
    "Pour davantage d'informations, on renvoie à la documentation: http://scikit-learn.org/stable/modules/generated/sklearn.linear_model.LogisticRegression.html#sklearn.linear_model.LogisticRegression.\n",
    "\n"
   ]
  },
  {
   "cell_type": "code",
   "execution_count": null,
   "metadata": {},
   "outputs": [],
   "source": [
    "from sklearn.linear_model import LogisticRegression"
   ]
  },
  {
   "cell_type": "code",
   "execution_count": null,
   "metadata": {},
   "outputs": [],
   "source": [
    "classifier = \n",
    "print(classifier.coef_[0], weights[1:])"
   ]
  },
  {
   "cell_type": "markdown",
   "metadata": {},
   "source": [
    "## Evaluation des performances."
   ]
  },
  {
   "cell_type": "markdown",
   "metadata": {},
   "source": [
    "<font color=\"red\">\n",
    "En utilisant la fonction train_test_split du module sklearn.model_selection, séparer la dataframe en une data-frame de données et un data-frame de test (on choisira un découpage de la base en 90% de train et 10% de test).\n",
    "</font>\n"
   ]
  },
  {
   "cell_type": "markdown",
   "metadata": {},
   "source": [
    "On renvoie à la documentation: http://scikit-learn.org/stable/modules/generated/sklearn.model_selection.train_test_split.html#sklearn.model_selection.train_test_split\n",
    "\n",
    "Quel paramètre nous permettrait de rendre notre split reproductible?"
   ]
  },
  {
   "cell_type": "code",
   "execution_count": null,
   "metadata": {},
   "outputs": [],
   "source": [
    "train, test = "
   ]
  },
  {
   "cell_type": "markdown",
   "metadata": {},
   "source": [
    "<font color=\"red\">\n",
    "Apprendre le modèle sur la base de train en utilisant l'un des algorithmes vus plus haut.\n",
    "</font>"
   ]
  },
  {
   "cell_type": "code",
   "execution_count": null,
   "metadata": {},
   "outputs": [],
   "source": [
    "classifier = "
   ]
  },
  {
   "cell_type": "markdown",
   "metadata": {},
   "source": [
    "### Evaluation des performances"
   ]
  },
  {
   "cell_type": "markdown",
   "metadata": {},
   "source": [
    "La matrice de confusion est\n",
    "$$\n",
    "\\begin{pmatrix}\n",
    "tp & fp \\\\ fn & tn\n",
    "\\end{pmatrix}\n",
    "$$\n",
    "où\n",
    "- tp = nombre de vrais positifs (la vraie valeur est 1, la décision est 1)\n",
    "- fp = nombre de faux positifs (la vraie valeur est 0, la décision est 1 : erreur de type I ou \"fausse alarme\")\n",
    "- fn = nombre de faux négatifs (la vraie valeur est 1, la décision est 0 : erreur de type II ou \"manque\")\n",
    "- tn = nombre de vrais négatifs (la vraie valeur est 0, la décision est 0)  "
   ]
  },
  {
   "cell_type": "markdown",
   "metadata": {},
   "source": [
    "<font color=\"red\">\n",
    "En utilisant la fonction confusion_matrix du module sklearn.metrics, calculez la matrice de confusion afin d'évaluer la performance du classifieur.\n",
    "</font>"
   ]
  },
  {
   "cell_type": "code",
   "execution_count": null,
   "metadata": {},
   "outputs": [],
   "source": [
    "confusion_matrix_ = "
   ]
  },
  {
   "cell_type": "markdown",
   "metadata": {},
   "source": [
    "<font color=\"red\">\n",
    "Complétez les deux dernières déclarations et comparez les deux matrices de confusion.\n",
    "</font>"
   ]
  },
  {
   "cell_type": "code",
   "execution_count": null,
   "metadata": {},
   "outputs": [],
   "source": [
    "p = (ytest==1)\n",
    "n = (ytest==0)\n",
    "t = (ytest==hard)\n",
    "f = (ytest!=hard)\n",
    "tp = (t & p).sum()\n",
    "tn = (t & n).sum()\n",
    "fp = \n",
    "fn = \n",
    "confusion_matrix = np.array([[tp,fp],[fn,tn]])\n",
    "print(confusion_matrix)"
   ]
  },
  {
   "cell_type": "markdown",
   "metadata": {},
   "source": [
    "<font color=\"red\">\n",
    "Estimer :  \n",
    "- la probabilité de fausse alarme  (c'est à dire la probabilité de décider '1' lorsque le label est '0')  \n",
    "- la puissance (c'est à dire la probabilité de décider '1' lorsque le label est '1')\n",
    "</font>"
   ]
  },
  {
   "cell_type": "code",
   "execution_count": null,
   "metadata": {},
   "outputs": [],
   "source": [
    "pfa = \n",
    "power = "
   ]
  },
  {
   "cell_type": "markdown",
   "metadata": {},
   "source": [
    "# Courbe ROC\n",
    "Si on diminue le seuil, on augmente le nombre de fausses alarmes et on augmente également la puissance.  \n",
    "La courbe ROC est l'ensemble des couples (pfa,power) pour toutes les valeurs de seuil possibles.  \n"
   ]
  },
  {
   "cell_type": "markdown",
   "metadata": {},
   "source": [
    "<font color=\"red\">\n",
    "À l'aide de la fonction roc_curve du module sklearn.metrics, afficher la courbe ROC ('power' en fonction de 'PFA') </font>"
   ]
  },
  {
   "cell_type": "code",
   "execution_count": null,
   "metadata": {},
   "outputs": [],
   "source": [
    "plt.plot()\n",
    "plt.grid()"
   ]
  },
  {
   "cell_type": "markdown",
   "metadata": {
    "collapsed": true
   },
   "source": [
    "Good Job ! "
   ]
  }
 ],
 "metadata": {
  "kernelspec": {
   "display_name": "Python 3",
   "language": "python",
   "name": "python3"
  },
  "language_info": {
   "codemirror_mode": {
    "name": "ipython",
    "version": 3
   },
   "file_extension": ".py",
   "mimetype": "text/x-python",
   "name": "python",
   "nbconvert_exporter": "python",
   "pygments_lexer": "ipython3",
   "version": "3.6.4"
  }
 },
 "nbformat": 4,
 "nbformat_minor": 2
}
